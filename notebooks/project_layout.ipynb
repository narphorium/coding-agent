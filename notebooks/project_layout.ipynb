{
 "cells": [
  {
   "cell_type": "markdown",
   "metadata": {},
   "source": [
    "# Project Layout Tool with E2B Sandbox\n",
    "\n",
    "Demonstration of the project_layout tool functionality using E2B sandbox to explore directory structure of a cloned repository."
   ]
  },
  {
   "cell_type": "code",
   "execution_count": 1,
   "metadata": {},
   "outputs": [
    {
     "name": "stdout",
     "output_type": "stream",
     "text": [
      "Environment loaded successfully\n",
      "Tool definition: {\n",
      "  type: \"function\",\n",
      "  function: {\n",
      "    name: \"project_layout\",\n",
      "    description: \"Get the full directory structure of the repository as text.\",\n",
      "    parameters: {\n",
      "      type: \"object\",\n",
      "      properties: {\n",
      "        rootPath: {\n",
      "          type: \"string\",\n",
      "          description: \"Root directory path to start traversal from (default: current working directory)\"\n",
      "        },\n",
      "        maxDepth: {\n",
      "          type: \"number\",\n",
      "          description: \"Maximum depth to traverse (default: 10)\",\n",
      "          default: 10\n",
      "        },\n",
      "        includeHidden: {\n",
      "          type: \"boolean\",\n",
      "          description: \"Include hidden files and directories (default: false)\",\n",
      "          default: false\n",
      "        }\n",
      "      },\n",
      "      required: []\n",
      "    }\n",
      "  }\n",
      "}\n"
     ]
    }
   ],
   "source": [
    "// Import E2B SDK and load environment\n",
    "import { Sandbox } from \"https://esm.sh/e2b@latest\";\n",
    "import * as dotenv from \"jsr:@std/dotenv\";\n",
    "\n",
    "import { projectLayoutTool, handleProjectLayout } from '../src/tools/project_layout.ts';\n",
    "import { StreamData } from 'npm:ai';\n",
    "\n",
    "// Load environment variables\n",
    "await dotenv.load({ export: true });\n",
    "\n",
    "const apiKey = Deno.env.get(\"E2B_API_KEY\");\n",
    "if (!apiKey) {\n",
    "  throw new Error(\"E2B_API_KEY environment variable is required\");\n",
    "}\n",
    "\n",
    "console.log(\"Environment loaded successfully\");\n",
    "\n",
    "// Set up mock objects for testing\n",
    "const mockData = new StreamData();\n",
    "const mockMessages: any[] = [];\n",
    "const mockAppendToolCallMessage = (msg: any) => [msg];\n",
    "\n",
    "console.log('Tool definition:', projectLayoutTool);"
   ]
  },
  {
   "cell_type": "code",
   "execution_count": 2,
   "metadata": {},
   "outputs": [
    {
     "name": "stdout",
     "output_type": "stream",
     "text": [
      "Sandbox created with ID: undefined\n",
      "Repository cloned successfully\n",
      "Sandbox ready for testing\n"
     ]
    }
   ],
   "source": [
    "// Create sandbox and clone repository\n",
    "const sandbox = await Sandbox.create({\n",
    "    template: \"base\",\n",
    "    apiKey: apiKey,\n",
    "    timeoutMs: 600_000 // 10 minutes\n",
    "  });\n",
    "  \n",
    "  console.log(`Sandbox created with ID: ${sandbox.id}`);\n",
    "  \n",
    "  // Clone the Sudoku Solver repository\n",
    "  const cloneResult = await sandbox.commands.run(\"git clone https://github.com/Rahimeen-Altaf/Sudoku-Solver-DSA.git /tmp/sudoku-solver\");\n",
    "  console.log(\"Repository cloned successfully\");\n",
    "  \n",
    "  // Configure git\n",
    "  await sandbox.commands.run(\"git config --global user.email 'test@example.com'\");\n",
    "  await sandbox.commands.run(\"git config --global user.name 'Test User'\");\n",
    "  \n",
    "  console.log(\"Sandbox ready for testing\");"
   ]
  },
  {
   "cell_type": "code",
   "execution_count": 3,
   "metadata": {},
   "outputs": [
    {
     "name": "stdout",
     "output_type": "stream",
     "text": [
      "=== /tmp Directory Structure ===\n",
      "Directory Structure:\n",
      "/tmp/\n",
      "└── sudoku-solver/\n",
      "    ├── __pycache__/\n",
      "    │   ├── puzzles.cpython-310.pyc\n",
      "    │   └── solutions.cpython-310.pyc\n",
      "    ├── puzzles.py\n",
      "    ├── puzzles.txt\n",
      "    ├── README.md\n",
      "    ├── solutions.py\n",
      "    └── solver.py\n",
      "\n"
     ]
    }
   ],
   "source": [
    "// Test layout of the entire /tmp directory to show the sandbox structure\n",
    "const tmpToolCall = {\n",
    "  id: 'test-tmp-layout',\n",
    "  func: {\n",
    "    name: 'project_layout',\n",
    "    arguments: {\n",
    "      rootPath: '/tmp',\n",
    "      maxDepth: 3,\n",
    "      includeHidden: false\n",
    "    }\n",
    "  }\n",
    "};\n",
    "\n",
    "console.log('=== /tmp Directory Structure ===');\n",
    "const tmpResult = await handleProjectLayout(\n",
    "  tmpToolCall,\n",
    "  mockData,\n",
    "  mockMessages,\n",
    "  mockAppendToolCallMessage,\n",
    "  sandbox\n",
    ");\n",
    "\n",
    "console.log(tmpResult[0].tool_call_result.structure);"
   ]
  },
  {
   "cell_type": "code",
   "execution_count": 4,
   "metadata": {},
   "outputs": [
    {
     "name": "stdout",
     "output_type": "stream",
     "text": [
      "=== Detailed Structure (with hidden files) ===\n",
      "Directory Structure:\n",
      "/tmp/sudoku-solver/\n",
      "├── __pycache__/\n",
      "│   ├── puzzles.cpython-310.pyc\n",
      "│   └── solutions.cpython-310.pyc\n",
      "├── .git/\n",
      "├── puzzles.py\n",
      "├── puzzles.txt\n",
      "├── README.md\n",
      "├── solutions.py\n",
      "└── solver.py\n",
      "\n"
     ]
    }
   ],
   "source": [
    "// Test with different parameters - include hidden files and deeper depth\n",
    "const detailedToolCall = {\n",
    "  id: 'test-detailed-layout',\n",
    "  func: {\n",
    "    name: 'project_layout',\n",
    "    arguments: {\n",
    "      rootPath: '/tmp/sudoku-solver',\n",
    "      maxDepth: 8,\n",
    "      includeHidden: true\n",
    "    }\n",
    "  }\n",
    "};\n",
    "\n",
    "console.log('=== Detailed Structure (with hidden files) ===');\n",
    "const detailedResult = await handleProjectLayout(\n",
    "  detailedToolCall,\n",
    "  mockData,\n",
    "  mockMessages,\n",
    "  mockAppendToolCallMessage,\n",
    "  sandbox\n",
    ");\n",
    "\n",
    "console.log(detailedResult[0].tool_call_result.structure);"
   ]
  },
  {
   "cell_type": "code",
   "execution_count": 5,
   "metadata": {},
   "outputs": [
    {
     "name": "stdout",
     "output_type": "stream",
     "text": [
      "=== Repository Structure ===\n",
      "Directory Structure:\n",
      "/tmp/sudoku-solver/\n",
      "├── __pycache__/\n",
      "│   ├── puzzles.cpython-310.pyc\n",
      "│   └── solutions.cpython-310.pyc\n",
      "├── puzzles.py\n",
      "├── puzzles.txt\n",
      "├── README.md\n",
      "├── solutions.py\n",
      "└── solver.py\n",
      "\n"
     ]
    }
   ],
   "source": [
    "// Test project layout of the cloned repository\n",
    "const repositoryToolCall = {\n",
    "  id: 'test-repo-layout',\n",
    "  func: {\n",
    "    name: 'project_layout',\n",
    "    arguments: {\n",
    "      rootPath: '/tmp/sudoku-solver',\n",
    "      maxDepth: 5,\n",
    "      includeHidden: false\n",
    "    }\n",
    "  }\n",
    "};\n",
    "\n",
    "console.log('=== Repository Structure ===');\n",
    "const repoResult = await handleProjectLayout(\n",
    "  repositoryToolCall,\n",
    "  mockData,\n",
    "  mockMessages,\n",
    "  mockAppendToolCallMessage,\n",
    "  sandbox\n",
    ");\n",
    "\n",
    "console.log(repoResult[0].tool_call_result.structure);"
   ]
  }
 ],
 "metadata": {
  "kernelspec": {
   "display_name": "Deno",
   "language": "typescript",
   "name": "_old_deno"
  },
  "language_info": {
   "codemirror_mode": "typescript",
   "file_extension": ".ts",
   "mimetype": "text/x.typescript",
   "name": "typescript",
   "nbconvert_exporter": "script",
   "pygments_lexer": "typescript",
   "version": "5.7.3"
  }
 },
 "nbformat": 4,
 "nbformat_minor": 4
}
