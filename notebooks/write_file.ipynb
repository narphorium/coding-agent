{
  "cells": [
    {
      "cell_type": "markdown",
      "id": "cell-0",
      "metadata": {},
      "source": [
        "# Write File Tool with E2B Sandbox\n",
        "\n",
        "Demonstration of the write_file tool functionality using E2B sandbox to create and write files in a cloned repository."
      ]
    },
    {
      "cell_type": "code",
      "execution_count": 1,
      "id": "cell-1",
      "metadata": {},
      "outputs": [
        {
          "name": "stdout",
          "output_type": "stream",
          "text": [
            "Environment loaded successfully\n"
          ]
        }
      ],
      "source": [
        "// Import E2B SDK and load environment\n",
        "import { Sandbox } from \"https://esm.sh/e2b@latest\";\n",
        "import * as dotenv from \"jsr:@std/dotenv\";\n",
        "\n",
        "// Import the write_file tool\n",
        "import { writeFileTool, handleWriteFile } from '../src/tools/write_file.ts';\n",
        "import { StreamData } from 'npm:ai';\n",
        "\n",
        "// Load environment variables\n",
        "await dotenv.load({ export: true });\n",
        "\n",
        "const apiKey = Deno.env.get(\"E2B_API_KEY\");\n",
        "if (!apiKey) {\n",
        "  throw new Error(\"E2B_API_KEY environment variable is required\");\n",
        "}\n",
        "\n",
        "console.log(\"Environment loaded successfully\");"
      ]
    },
    {
      "cell_type": "code",
      "execution_count": 2,
      "id": "cell-2",
      "metadata": {},
      "outputs": [
        {
          "name": "stdout",
          "output_type": "stream",
          "text": [
            "Sandbox created with ID: undefined\n",
            "Repository cloned successfully\n",
            "Sandbox ready for testing\n",
            "Tool definition: {\n",
            "  type: \"function\",\n",
            "  function: {\n",
            "    name: \"write_file\",\n",
            "    description: \"Write content to a file in the filesystem.\",\n",
            "    parameters: {\n",
            "      type: \"object\",\n",
            "      properties: {\n",
            "        path: { type: \"string\", description: \"The file path to write to\" },\n",
            "        content: {\n",
            "          type: \"string\",\n",
            "          description: \"The content to write to the file\"\n",
            "        }\n",
            "      },\n",
            "      required: [ \"path\", \"content\" ]\n",
            "    }\n",
            "  }\n",
            "}\n"
          ]
        }
      ],
      "source": [
        "// Create sandbox and clone repository\n",
        "const sandbox = await Sandbox.create({\n",
        "    template: \"base\",\n",
        "    apiKey: apiKey,\n",
        "    timeoutMs: 600_000 // 10 minutes\n",
        "  });\n",
        "  \n",
        "  console.log(`Sandbox created with ID: ${sandbox.id}`);\n",
        "  \n",
        "  // Clone the Sudoku Solver repository\n",
        "  const cloneResult = await sandbox.commands.run(\"git clone https://github.com/Rahimeen-Altaf/Sudoku-Solver-DSA.git /home/user/sudoku-solver\");\n",
        "  console.log(\"Repository cloned successfully\");\n",
        "  \n",
        "  // Configure git\n",
        "  await sandbox.commands.run(\"git config --global user.email 'test@example.com'\");\n",
        "  await sandbox.commands.run(\"git config --global user.name 'Test User'\");\n",
        "  \n",
        "  console.log(\"Sandbox ready for testing\");\n",
        "\n",
        "  // Set up mock objects for testing\n",
        "const mockData = new StreamData();\n",
        "const mockMessages: any[] = [];\n",
        "const mockAppendToolCallMessage = (msg: any) => [msg];\n",
        "\n",
        "console.log('Tool definition:', writeFileTool);"
      ]
    },
    {
      "cell_type": "code",
      "execution_count": 3,
      "id": "cell-3",
      "metadata": {},
      "outputs": [
        {
          "name": "stdout",
          "output_type": "stream",
          "text": [
            "=== Writing Simple Text File ===\n",
            "Write result: {\n",
            "  success: true,\n",
            "  message: \"File written successfully to /home/user/sudoku-solver/test-output.txt\"\n",
            "}\n",
            "File content verification: Hello, World!\n",
            "This is a test file created by the write_file tool.\n",
            "Timestamp: 2025-09-22T19:41:11.311Z\n"
          ]
        }
      ],
      "source": [
        "// Test writing a simple text file\n",
        "const simpleTextToolCall = {\n",
        "  id: 'test-simple-text',\n",
        "  func: {\n",
        "    name: 'write_file',\n",
        "    arguments: {\n",
        "      path: '/home/user/sudoku-solver/test-output.txt',\n",
        "      content: 'Hello, World!\\nThis is a test file created by the write_file tool.\\nTimestamp: ' + new Date().toISOString()\n",
        "    }\n",
        "  }\n",
        "};\n",
        "\n",
        "console.log('=== Writing Simple Text File ===');\n",
        "const simpleResult = await handleWriteFile(\n",
        "  simpleTextToolCall,\n",
        "  mockData,\n",
        "  mockMessages,\n",
        "  mockAppendToolCallMessage,\n",
        "  sandbox\n",
        ");\n",
        "\n",
        "console.log('Write result:', simpleResult[0].tool_call_result);\n",
        "\n",
        "// Verify the file was created by reading it\n",
        "const verifyContent = await sandbox.files.read('/home/user/sudoku-solver/test-output.txt');\n",
        "console.log('File content verification:', verifyContent);"
      ]
    },
    {
      "cell_type": "code",
      "execution_count": null,
      "id": "cell-4",
      "metadata": {},
      "outputs": [],
      "source": [
        "// Test writing a Python configuration file\n",
        "const configContent = `# Configuration file for Sudoku Solver\n",
        "# Generated by write_file tool\n",
        "\n",
        "CONFIG = {\n",
        "    \"grid_size\": 9,\n",
        "    \"subgrid_size\": 3,\n",
        "    \"max_attempts\": 1000,\n",
        "    \"use_backtracking\": True,\n",
        "    \"debug_mode\": False,\n",
        "    \"output_format\": \"console\"\n",
        "}\n",
        "\n",
        "# Difficulty levels\n",
        "DIFFICULTY_LEVELS = {\n",
        "    \"easy\": 0.4,\n",
        "    \"medium\": 0.5,\n",
        "    \"hard\": 0.6,\n",
        "    \"expert\": 0.7\n",
        "}\n",
        "\n",
        "print(\"Configuration loaded successfully\")`;\n",
        "\n",
        "const configToolCall = {\n",
        "  id: 'test-config',\n",
        "  func: {\n",
        "    name: 'write_file',\n",
        "    arguments: {\n",
        "      path: '/home/user/sudoku-solver/config.py',\n",
        "      content: configContent\n",
        "    }\n",
        "  }\n",
        "};\n",
        "\n",
        "console.log('=== Writing Python Configuration File ===');\n",
        "const configResult = await handleWriteFile(\n",
        "  configToolCall,\n",
        "  mockData,\n",
        "  mockMessages,\n",
        "  mockAppendToolCallMessage,\n",
        "  sandbox\n",
        ");\n",
        "\n",
        "console.log('Config write result:', configResult[0].tool_call_result);\n",
        "\n",
        "// Test the Python file by running it\n",
        "const runResult = await sandbox.commands.run('cd /home/user/sudoku-solver && python config.py');\n",
        "console.log('Python execution result:', runResult.stdout);"
      ]
    },
    {
      "cell_type": "code",
      "execution_count": 4,
      "id": "cell-5",
      "metadata": {},
      "outputs": [
        {
          "name": "stdout",
          "output_type": "stream",
          "text": [
            "=== Testing Error Handling ===\n",
            "Error result: {\n",
            "  success: true,\n",
            "  message: \"File written successfully to /invalid/directory/that/does/not/exist/test.txt\"\n",
            "}\n"
          ]
        }
      ],
      "source": [
        "// Test error handling by writing to an invalid directory\n",
        "const errorToolCall = {\n",
        "  id: 'test-error',\n",
        "  func: {\n",
        "    name: 'write_file',\n",
        "    arguments: {\n",
        "      path: '/invalid/directory/that/does/not/exist/test.txt',\n",
        "      content: 'This should fail'\n",
        "    }\n",
        "  }\n",
        "};\n",
        "\n",
        "console.log('=== Testing Error Handling ===');\n",
        "const errorResult = await handleWriteFile(\n",
        "  errorToolCall,\n",
        "  mockData,\n",
        "  mockMessages,\n",
        "  mockAppendToolCallMessage,\n",
        "  sandbox\n",
        ");\n",
        "\n",
        "console.log('Error result:', errorResult[0].tool_call_result);"
      ]
    },
    {
      "cell_type": "code",
      "execution_count": 5,
      "id": "cell-6",
      "metadata": {},
      "outputs": [
        {
          "name": "stdout",
          "output_type": "stream",
          "text": [
            "=== Writing JSON Data File ===\n",
            "JSON write result: {\n",
            "  success: true,\n",
            "  message: \"File written successfully to /home/user/sudoku-solver/demo_puzzle.json\"\n",
            "}\n",
            "Created files: -rw-r--r-- 1 user user  957 Sep 22 19:41 /home/user/sudoku-solver/demo_puzzle.json\n",
            "-rw-r--r-- 1 user user 1098 Sep 22 19:41 /home/user/sudoku-solver/puzzles.py\n",
            "-rw-r--r-- 1 user user  833 Sep 22 19:41 /home/user/sudoku-solver/puzzles.txt\n",
            "-rw-r--r-- 1 user user 1134 Sep 22 19:41 /home/user/sudoku-solver/solutions.py\n",
            "-rw-r--r-- 1 user user 5952 Sep 22 19:41 /home/user/sudoku-solver/solver.py\n",
            "-rw-r--r-- 1 user user  101 Sep 22 19:41 /home/user/sudoku-solver/test-output.txt\n",
            "\n"
          ]
        }
      ],
      "source": [
        "// Test writing a JSON data file\n",
        "const jsonData = {\n",
        "  \"puzzle_name\": \"Demo Puzzle\",\n",
        "  \"difficulty\": \"medium\",\n",
        "  \"grid\": [\n",
        "    [5, 3, 0, 0, 7, 0, 0, 0, 0],\n",
        "    [6, 0, 0, 1, 9, 5, 0, 0, 0],\n",
        "    [0, 9, 8, 0, 0, 0, 0, 6, 0],\n",
        "    [8, 0, 0, 0, 6, 0, 0, 0, 3],\n",
        "    [4, 0, 0, 8, 0, 3, 0, 0, 1],\n",
        "    [7, 0, 0, 0, 2, 0, 0, 0, 6],\n",
        "    [0, 6, 0, 0, 0, 0, 2, 8, 0],\n",
        "    [0, 0, 0, 4, 1, 9, 0, 0, 5],\n",
        "    [0, 0, 0, 0, 8, 0, 0, 7, 9]\n",
        "  ],\n",
        "  \"created_at\": new Date().toISOString()\n",
        "};\n",
        "\n",
        "const jsonToolCall = {\n",
        "  id: 'test-json',\n",
        "  func: {\n",
        "    name: 'write_file',\n",
        "    arguments: {\n",
        "      path: '/home/user/sudoku-solver/demo_puzzle.json',\n",
        "      content: JSON.stringify(jsonData, null, 2)\n",
        "    }\n",
        "  }\n",
        "};\n",
        "\n",
        "console.log('=== Writing JSON Data File ===');\n",
        "const jsonResult = await handleWriteFile(\n",
        "  jsonToolCall,\n",
        "  mockData,\n",
        "  mockMessages,\n",
        "  mockAppendToolCallMessage,\n",
        "  sandbox\n",
        ");\n",
        "\n",
        "console.log('JSON write result:', jsonResult[0].tool_call_result);\n",
        "\n",
        "// List all files we created\n",
        "const listResult = await sandbox.commands.run('ls -la /home/user/sudoku-solver/*.{txt,py,json}');\n",
        "console.log('Created files:', listResult.stdout);"
      ]
    },
    {
      "cell_type": "code",
      "execution_count": 7,
      "id": "cell-7",
      "metadata": {},
      "outputs": [
        {
          "name": "stdout",
          "output_type": "stream",
          "text": [
            "Sandbox closed successfully\n"
          ]
        }
      ],
      "source": [
        "// Clean up sandbox\n",
        "await sandbox.kill();\n",
        "console.log('Sandbox closed successfully');"
      ]
    }
  ],
  "metadata": {
    "kernelspec": {
      "display_name": "Deno",
      "language": "typescript",
      "name": "_old_deno"
    },
    "language_info": {
      "codemirror_mode": "typescript",
      "file_extension": ".ts",
      "mimetype": "text/x.typescript",
      "name": "typescript",
      "nbconvert_exporter": "script",
      "pygments_lexer": "typescript",
      "version": "5.7.3"
    }
  },
  "nbformat": 4,
  "nbformat_minor": 4
}
