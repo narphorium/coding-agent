{
 "cells": [
  {
   "cell_type": "markdown",
   "metadata": {},
   "source": [
    "# E2B Sandbox with Git Commands\n",
    "\n",
    "This notebook demonstrates creating an E2B sandbox and running git commands with a 10-minute timeout for inspection."
   ]
  },
  {
   "cell_type": "markdown",
   "metadata": {},
   "source": [
    "## Setup and Imports\n",
    "\n",
    "Import required modules and load environment variables."
   ]
  },
  {
   "cell_type": "code",
   "execution_count": 1,
   "metadata": {},
   "outputs": [
    {
     "name": "stdout",
     "output_type": "stream",
     "text": [
      "Environment loaded successfully\n"
     ]
    }
   ],
   "source": [
    "// Import E2B SDK and dotenv for environment variables\n",
    "import { Sandbox } from \"https://esm.sh/e2b@latest\";\n",
    "import * as dotenv from \"jsr:@std/dotenv\";\n",
    "\n",
    "// Load environment variables from .env file\n",
    "await dotenv.load({ export: true });\n",
    "\n",
    "// Validate API key is present\n",
    "const apiKey = Deno.env.get(\"E2B_API_KEY\");\n",
    "if (!apiKey) {\n",
    "  throw new Error(\"E2B_API_KEY environment variable is required\");\n",
    "}\n",
    "\n",
    "console.log(\"Environment loaded successfully\");"
   ]
  },
  {
   "cell_type": "markdown",
   "metadata": {},
   "source": [
    "## Create Sandbox\n",
    "\n",
    "Initialize a new E2B sandbox with a 10-minute timeout."
   ]
  },
  {
   "cell_type": "code",
   "execution_count": 2,
   "metadata": {},
   "outputs": [
    {
     "name": "stdout",
     "output_type": "stream",
     "text": [
      "Sandbox created with ID: undefined\n",
      "Sandbox will timeout in 10 minutes\n"
     ]
    }
   ],
   "source": [
    "// Create sandbox with 10-minute timeout (600 seconds)\n",
    "const sandbox = await Sandbox.create({\n",
    "  template: \"base\",\n",
    "  apiKey: apiKey,\n",
    "  timeoutMs: 600_000 // 10 minutes\n",
    "});\n",
    "\n",
    "console.log(`Sandbox created with ID: ${sandbox.id}`);\n",
    "console.log(\"Sandbox will timeout in 10 minutes\");"
   ]
  },
  {
   "cell_type": "markdown",
   "metadata": {},
   "source": [
    "## Clone Sudoku Solver Repository\n",
    "\n",
    "Clone the specified Sudoku Solver repository and configure git."
   ]
  },
  {
   "cell_type": "code",
   "execution_count": 3,
   "metadata": {},
   "outputs": [
    {
     "name": "stdout",
     "output_type": "stream",
     "text": [
      "Git clone output: \n",
      "Git clone errors: Cloning into '/tmp/sudoku-solver'...\n",
      "\n",
      "Repository cloned and git configured\n"
     ]
    }
   ],
   "source": [
    "// Clone the Sudoku Solver repository\n",
    "const cloneResult = await sandbox.commands.run(\"git clone https://github.com/Rahimeen-Altaf/Sudoku-Solver-DSA.git /tmp/sudoku-solver\");\n",
    "console.log(\"Git clone output:\", cloneResult.stdout);\n",
    "if (cloneResult.stderr) console.log(\"Git clone errors:\", cloneResult.stderr);\n",
    "\n",
    "// Configure git user (required for any future commits)\n",
    "const configEmailResult = await sandbox.commands.run(\"git config --global user.email 'test@example.com'\");\n",
    "const configNameResult = await sandbox.commands.run(\"git config --global user.name 'Test User'\");\n",
    "\n",
    "console.log(\"Repository cloned and git configured\");"
   ]
  },
  {
   "cell_type": "markdown",
   "metadata": {},
   "source": [
    "## Explore Repository Structure\n",
    "\n",
    "Examine the cloned Sudoku Solver repository contents."
   ]
  },
  {
   "cell_type": "code",
   "execution_count": 4,
   "metadata": {},
   "outputs": [
    {
     "name": "stdout",
     "output_type": "stream",
     "text": [
      "=== Repository Contents ===\n",
      "total 40\n",
      "drwxr-xr-x 4 user user 4096 Sep 22 18:10 .\n",
      "drwxrwxrwt 7 root root 4096 Sep 22 18:10 ..\n",
      "drwxr-xr-x 8 user user 4096 Sep 22 18:10 .git\n",
      "-rw-r--r-- 1 user user 2356 Sep 22 18:10 README.md\n",
      "drwxr-xr-x 2 user user 4096 Sep 22 18:10 __pycache__\n",
      "-rw-r--r-- 1 user user 1098 Sep 22 18:10 puzzles.py\n",
      "-rw-r--r-- 1 user user  833 Sep 22 18:10 puzzles.txt\n",
      "-rw-r--r-- 1 user user 1134 Sep 22 18:10 solutions.py\n",
      "-rw-r--r-- 1 user user 5952 Sep 22 18:10 solver.py\n",
      "\n",
      "\\n=== README Files ===\n",
      "/tmp/sudoku-solver/README.md\n",
      "\n",
      "\\n=== Source Code Files ===\n",
      "/tmp/sudoku-solver/puzzles.py\n",
      "/tmp/sudoku-solver/solutions.py\n",
      "/tmp/sudoku-solver/solver.py\n",
      "\n"
     ]
    }
   ],
   "source": [
    "// List repository contents\n",
    "const lsResult = await sandbox.commands.run(\"ls -la /tmp/sudoku-solver\");\n",
    "console.log(\"=== Repository Contents ===\");\n",
    "console.log(lsResult.stdout);\n",
    "if (lsResult.stderr) console.log(\"Errors:\", lsResult.stderr);\n",
    "\n",
    "// Check if there's a README file\n",
    "const readmeResult = await sandbox.commands.run(\"find /tmp/sudoku-solver -name 'README*' -o -name 'readme*'\");\n",
    "console.log(\"\\\\n=== README Files ===\");\n",
    "console.log(readmeResult.stdout || \"No README files found\");\n",
    "\n",
    "// Look for source code files\n",
    "const sourceResult = await sandbox.commands.run(\"find /tmp/sudoku-solver -type f \\\\( -name '*.py' -o -name '*.java' -o -name '*.cpp' -o -name '*.c' -o -name '*.js' \\\\)\");\n",
    "console.log(\"\\\\n=== Source Code Files ===\");\n",
    "console.log(sourceResult.stdout || \"No common source files found\");"
   ]
  },
  {
   "cell_type": "markdown",
   "metadata": {},
   "source": [
    "## Run Git Status Check\n",
    "\n",
    "Execute various git commands to inspect the repository state."
   ]
  },
  {
   "cell_type": "code",
   "execution_count": 5,
   "metadata": {},
   "outputs": [
    {
     "name": "stdout",
     "output_type": "stream",
     "text": [
      "=== Git Status ===\n",
      "On branch main\n",
      "Your branch is up to date with 'origin/main'.\n",
      "\n",
      "nothing to commit, working tree clean\n",
      "\n",
      "\\n=== Git Log (Last 10 commits) ===\n",
      "0adb9b3 Merge pull request #2 from Yahya15031/DynamicFuncation\n",
      "b1bb814 Added puzzle.txt\n",
      "cc30d0c Importing_solution_not_required\n",
      "4361fd1 updated solver\n",
      "a40f4e6 Merge pull request #1 from Yahya15031/DynamicFuncation\n",
      "139fb91 Update solver.py\n",
      "8c4c2ac Added a dynamic checker\n",
      "85112d3 Update README.md\n",
      "2ecf551 comments added\n",
      "7656fcc dynamic solver\n",
      "\n",
      "\\n=== Current Branch ===\n",
      "* main 0adb9b3 Merge pull request #2 from Yahya15031/DynamicFuncation\n",
      "\n"
     ]
    }
   ],
   "source": [
    "// Check git status\n",
    "const statusResult = await sandbox.commands.run(\"cd /tmp/sudoku-solver && git status\");\n",
    "console.log(\"=== Git Status ===\");\n",
    "console.log(statusResult.stdout);\n",
    "if (statusResult.stderr) console.log(\"Errors:\", statusResult.stderr);\n",
    "\n",
    "// Check git log\n",
    "const logResult = await sandbox.commands.run(\"cd /tmp/sudoku-solver && git log --oneline -10\");\n",
    "console.log(\"\\\\n=== Git Log (Last 10 commits) ===\");\n",
    "console.log(logResult.stdout);\n",
    "if (logResult.stderr) console.log(\"Errors:\", logResult.stderr);\n",
    "\n",
    "// Check current branch\n",
    "const branchResult = await sandbox.commands.run(\"cd /tmp/sudoku-solver && git branch -v\");\n",
    "console.log(\"\\\\n=== Current Branch ===\");\n",
    "console.log(branchResult.stdout);"
   ]
  },
  {
   "cell_type": "markdown",
   "metadata": {},
   "source": [
    "## Clean Up (Optional)\n",
    "\n",
    "Manually close the sandbox if needed before the timeout."
   ]
  },
  {
   "cell_type": "code",
   "execution_count": null,
   "metadata": {},
   "outputs": [
    {
     "name": "stdout",
     "output_type": "stream",
     "text": [
      "Sandbox closed manually\n",
      "Sandbox cleanup cell ready (currently commented out)\n",
      "Remove the comment to manually close the sandbox\n"
     ]
    }
   ],
   "source": [
    "// Uncomment the line below to manually close the sandbox\n",
    "// await sandbox.kill();\n",
    "console.log(\"Sandbox closed manually\");\n"
   ]
  }
 ],
 "metadata": {
  "kernelspec": {
   "display_name": "Deno",
   "language": "typescript",
   "name": "_old_deno"
  },
  "language_info": {
   "codemirror_mode": "typescript",
   "file_extension": ".ts",
   "mimetype": "text/x.typescript",
   "name": "typescript",
   "nbconvert_exporter": "script",
   "pygments_lexer": "typescript",
   "version": "5.7.3"
  }
 },
 "nbformat": 4,
 "nbformat_minor": 2
}
