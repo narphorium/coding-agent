{
 "cells": [
  {
   "cell_type": "markdown",
   "metadata": {},
   "source": [
    "# Read File Tool with E2B Sandbox\n",
    "\n",
    "Demonstration of the read_file tool functionality using E2B sandbox to read files from a cloned repository."
   ]
  },
  {
   "cell_type": "code",
   "execution_count": 1,
   "metadata": {},
   "outputs": [
    {
     "name": "stdout",
     "output_type": "stream",
     "text": [
      "Environment loaded successfully\n"
     ]
    }
   ],
   "source": [
    "// Import E2B SDK and load environment\n",
    "import { Sandbox } from \"https://esm.sh/e2b@latest\";\n",
    "import * as dotenv from \"jsr:@std/dotenv\";\n",
    "\n",
    "// Import the read_file tool\n",
    "import { readFileTool, handleReadFile } from '../src/tools/read_file.ts';\n",
    "import { StreamData } from 'npm:ai';\n",
    "\n",
    "\n",
    "\n",
    "// Load environment variables\n",
    "await dotenv.load({ export: true });\n",
    "\n",
    "const apiKey = Deno.env.get(\"E2B_API_KEY\");\n",
    "if (!apiKey) {\n",
    "  throw new Error(\"E2B_API_KEY environment variable is required\");\n",
    "}\n",
    "\n",
    "console.log(\"Environment loaded successfully\");"
   ]
  },
  {
   "cell_type": "code",
   "execution_count": 2,
   "metadata": {},
   "outputs": [
    {
     "name": "stdout",
     "output_type": "stream",
     "text": [
      "Sandbox created with ID: undefined\n",
      "Repository cloned successfully\n",
      "Sandbox ready for testing\n",
      "Tool definition: {\n",
      "  type: \"function\",\n",
      "  function: {\n",
      "    name: \"read_file\",\n",
      "    description: \"Read the contents of a file from the filesystem.\",\n",
      "    parameters: {\n",
      "      type: \"object\",\n",
      "      properties: {\n",
      "        path: { type: \"string\", description: \"The file path to read from\" }\n",
      "      },\n",
      "      required: [ \"path\" ]\n",
      "    }\n",
      "  }\n",
      "}\n"
     ]
    }
   ],
   "source": [
    "// Create sandbox and clone repository\n",
    "const sandbox = await Sandbox.create({\n",
    "    template: \"base\",\n",
    "    apiKey: apiKey,\n",
    "    timeoutMs: 600_000 // 10 minutes\n",
    "  });\n",
    "  \n",
    "  console.log(`Sandbox created with ID: ${sandbox.id}`);\n",
    "  \n",
    "  // Clone the Sudoku Solver repository\n",
    "  const cloneResult = await sandbox.commands.run(\"git clone https://github.com/Rahimeen-Altaf/Sudoku-Solver-DSA.git /home/user/sudoku-solver\");\n",
    "  console.log(\"Repository cloned successfully\");\n",
    "  \n",
    "  // Configure git\n",
    "  await sandbox.commands.run(\"git config --global user.email 'test@example.com'\");\n",
    "  await sandbox.commands.run(\"git config --global user.name 'Test User'\");\n",
    "  \n",
    "  console.log(\"Sandbox ready for testing\");\n",
    "\n",
    "  // Set up mock objects for testing\n",
    "const mockData = new StreamData();\n",
    "const mockMessages: any[] = [];\n",
    "const mockAppendToolCallMessage = (msg: any) => [msg];\n",
    "\n",
    "console.log('Tool definition:', readFileTool);"
   ]
  },
  {
   "cell_type": "code",
   "execution_count": 3,
   "metadata": {},
   "outputs": [
    {
     "name": "stdout",
     "output_type": "stream",
     "text": [
      "=== Testing Error Handling ===\n",
      "Error result: {\n",
      "  error: \"path '/home/user/sudoku-solver/non-existent-file.txt' does not exist\"\n",
      "}\n"
     ]
    }
   ],
   "source": [
    "// Test error handling by trying to read a non-existent file\n",
    "const errorToolCall = {\n",
    "  id: 'test-error',\n",
    "  func: {\n",
    "    name: 'read_file',\n",
    "    arguments: {\n",
    "      path: '/home/user/sudoku-solver/non-existent-file.txt'\n",
    "    }\n",
    "  }\n",
    "};\n",
    "\n",
    "console.log('=== Testing Error Handling ===');\n",
    "const errorResult = await handleReadFile(\n",
    "  errorToolCall,\n",
    "  mockData,\n",
    "  mockMessages,\n",
    "  mockAppendToolCallMessage,\n",
    "  sandbox\n",
    ");\n",
    "\n",
    "console.log('Error result:', errorResult[0].tool_call_result);"
   ]
  },
  {
   "cell_type": "code",
   "execution_count": 4,
   "metadata": {},
   "outputs": [
    {
     "name": "stdout",
     "output_type": "stream",
     "text": [
      "=== Reading solver.py ===\n",
      "Solver.py content preview: import os\n",
      "import platform\n",
      "\n",
      "# Clear the console screen based on the operating system\n",
      "if platform.system() == 'Windows':\n",
      "    CLEAR = 'cls'\n",
      "else:\n",
      "    CLEAR = 'clear'\n",
      "\n",
      "# Function to load puzzle data from a text file\n",
      "def load_puzzle_data(size, percentage):\n",
      "    filename = 'puzzles.txt'\n",
      "    with open(filen...\n",
      "Total file size: 5952 characters\n"
     ]
    }
   ],
   "source": [
    "// Test reading a Python source file\n",
    "const solverToolCall = {\n",
    "  id: 'test-solver',\n",
    "  func: {\n",
    "    name: 'read_file',\n",
    "    arguments: {\n",
    "      path: '/home/user/sudoku-solver/solver.py'\n",
    "    }\n",
    "  }\n",
    "};\n",
    "\n",
    "console.log('=== Reading solver.py ===');\n",
    "const solverResult = await handleReadFile(\n",
    "  solverToolCall,\n",
    "  mockData,\n",
    "  mockMessages,\n",
    "  mockAppendToolCallMessage,\n",
    "  sandbox\n",
    ");\n",
    "\n",
    "console.log('Solver.py content preview:', solverResult[0].tool_call_result.content.substring(0, 300) + '...');\n",
    "console.log('Total file size:', solverResult[0].tool_call_result.content.length, 'characters');"
   ]
  },
  {
   "cell_type": "code",
   "execution_count": 7,
   "metadata": {},
   "outputs": [
    {
     "name": "stdout",
     "output_type": "stream",
     "text": [
      "=== Reading README.md ===\n",
      "README content preview: # Sudoku Solver\n",
      "\n",
      "The Sudoku Solver project is an advanced Python application designed to efficiently solve Sudoku puzzles. Sudoku is a number puzzle game played on a 9x9 grid, divided into 3x3 subgr...\n"
     ]
    }
   ],
   "source": [
    "// Test reading README.md file from the cloned repository\n",
    "const readmeToolCall = {\n",
    "  id: 'test-readme',\n",
    "  func: {\n",
    "    name: 'read_file',\n",
    "    arguments: {\n",
    "      path: '/home/user/sudoku-solver/README.md'\n",
    "    }\n",
    "  }\n",
    "};\n",
    "\n",
    "console.log('=== Reading README.md ===');\n",
    "const readmeResult = await handleReadFile(\n",
    "  readmeToolCall,\n",
    "  mockData,\n",
    "  mockMessages,\n",
    "  mockAppendToolCallMessage,\n",
    "  sandbox\n",
    ");\n",
    "\n",
    "console.log('README content preview:', readmeResult[0].tool_call_result.content.substring(0, 200) + '...');"
   ]
  },
  {
   "cell_type": "code",
   "execution_count": null,
   "metadata": {},
   "outputs": [],
   "source": []
  },
  {
   "cell_type": "code",
   "execution_count": null,
   "metadata": {},
   "outputs": [],
   "source": []
  }
 ],
 "metadata": {
  "kernelspec": {
   "display_name": "Deno",
   "language": "typescript",
   "name": "_old_deno"
  },
  "language_info": {
   "codemirror_mode": "typescript",
   "file_extension": ".ts",
   "mimetype": "text/x.typescript",
   "name": "typescript",
   "nbconvert_exporter": "script",
   "pygments_lexer": "typescript",
   "version": "5.7.3"
  }
 },
 "nbformat": 4,
 "nbformat_minor": 4
}
