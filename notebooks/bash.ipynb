{
  "cells": [
    {
      "cell_type": "markdown",
      "id": "cell-0",
      "metadata": {},
      "source": [
        "# Bash Tool with E2B Sandbox\n",
        "\n",
        "Demonstration of the bash tool functionality using E2B sandbox to execute shell commands in a remote environment."
      ]
    },
    {
      "cell_type": "code",
      "execution_count": 1,
      "id": "cell-1",
      "metadata": {},
      "outputs": [
        {
          "name": "stdout",
          "output_type": "stream",
          "text": [
            "Environment loaded successfully\n"
          ]
        }
      ],
      "source": [
        "// Import E2B SDK and load environment\n",
        "import { Sandbox } from \"https://esm.sh/e2b@latest\";\n",
        "import * as dotenv from \"jsr:@std/dotenv\";\n",
        "\n",
        "// Import the bash tool\n",
        "import { bashTool, handleBash } from '../src/tools/bash.ts';\n",
        "import { StreamData } from 'npm:ai';\n",
        "\n",
        "// Load environment variables\n",
        "await dotenv.load({ export: true });\n",
        "\n",
        "const apiKey = Deno.env.get(\"E2B_API_KEY\");\n",
        "if (!apiKey) {\n",
        "  throw new Error(\"E2B_API_KEY environment variable is required\");\n",
        "}\n",
        "\n",
        "console.log(\"Environment loaded successfully\");"
      ]
    },
    {
      "cell_type": "code",
      "execution_count": 2,
      "id": "cell-2",
      "metadata": {},
      "outputs": [
        {
          "name": "stdout",
          "output_type": "stream",
          "text": [
            "Sandbox created with ID: undefined\n",
            "Repository cloned successfully\n",
            "Sandbox ready for testing\n",
            "Tool definition: {\n",
            "  type: \"function\",\n",
            "  function: {\n",
            "    name: \"bash\",\n",
            "    description: \"Execute bash commands in the sandbox environment.\",\n",
            "    parameters: {\n",
            "      type: \"object\",\n",
            "      properties: {\n",
            "        command: { type: \"string\", description: \"The bash command to execute\" },\n",
            "        working_directory: {\n",
            "          type: \"string\",\n",
            "          description: \"Optional working directory to run the command in\"\n",
            "        },\n",
            "        timeout: {\n",
            "          type: \"number\",\n",
            "          description: \"Optional timeout in milliseconds (default: 30000)\"\n",
            "        }\n",
            "      },\n",
            "      required: [ \"command\" ]\n",
            "    }\n",
            "  }\n",
            "}\n"
          ]
        }
      ],
      "source": [
        "// Create sandbox and clone repository\n",
        "const sandbox = await Sandbox.create({\n",
        "    template: \"base\",\n",
        "    apiKey: apiKey,\n",
        "    timeoutMs: 600_000 // 10 minutes\n",
        "  });\n",
        "  \n",
        "  console.log(`Sandbox created with ID: ${sandbox.id}`);\n",
        "  \n",
        "  // Clone the Sudoku Solver repository\n",
        "  const cloneResult = await sandbox.commands.run(\"git clone https://github.com/Rahimeen-Altaf/Sudoku-Solver-DSA.git /home/user/sudoku-solver\");\n",
        "  console.log(\"Repository cloned successfully\");\n",
        "  \n",
        "  console.log(\"Sandbox ready for testing\");\n",
        "\n",
        "  // Set up mock objects for testing\n",
        "const mockData = new StreamData();\n",
        "const mockMessages: any[] = [];\n",
        "const mockAppendToolCallMessage = (msg: any) => [msg];\n",
        "\n",
        "console.log('Tool definition:', bashTool);"
      ]
    },
    {
      "cell_type": "code",
      "execution_count": 3,
      "id": "cell-3",
      "metadata": {},
      "outputs": [
        {
          "name": "stdout",
          "output_type": "stream",
          "text": [
            "=== Testing Basic Command - ls ===\n",
            "Command result: {\n",
            "  success: true,\n",
            "  stdout: \"total 40\\n\" +\n",
            "    \"drwxr-xr-x 4 user user 4096 Sep 22 19:49 .\\n\" +\n",
            "    \"drwx------ 3 user user 4096 Sep 22 19:49 ..\\n\" +\n",
            "    \"drwxr-xr-x 8 user user 4096 Sep 22 19:49 .git\\n\" +\n",
            "    \"-rw-r--r-- 1 user user 2356 Sep 22 19:49 README.md\\n\" +\n",
            "    \"drwxr-xr-x 2 user user 4096 Sep 22 19:49 __pycache__\\n\" +\n",
            "    \"-rw-r--r-- 1 user user 1098 Sep 22 19:49 puzzles.py\\n\" +\n",
            "    \"-rw-r--r-- 1 user user  833 Sep 22 19:49 puzzles.txt\\n\" +\n",
            "    \"-rw-r--r-- 1 user user 1134 Sep 22 19:49 solutions.py\\n\" +\n",
            "    \"-rw-r--r-- 1 user user 5952 Sep 22 19:49 solver.py\\n\",\n",
            "  stderr: \"\",\n",
            "  exit_code: 0\n",
            "}\n",
            "Directory listing:\n",
            "total 40\n",
            "drwxr-xr-x 4 user user 4096 Sep 22 19:49 .\n",
            "drwx------ 3 user user 4096 Sep 22 19:49 ..\n",
            "drwxr-xr-x 8 user user 4096 Sep 22 19:49 .git\n",
            "-rw-r--r-- 1 user user 2356 Sep 22 19:49 README.md\n",
            "drwxr-xr-x 2 user user 4096 Sep 22 19:49 __pycache__\n",
            "-rw-r--r-- 1 user user 1098 Sep 22 19:49 puzzles.py\n",
            "-rw-r--r-- 1 user user  833 Sep 22 19:49 puzzles.txt\n",
            "-rw-r--r-- 1 user user 1134 Sep 22 19:49 solutions.py\n",
            "-rw-r--r-- 1 user user 5952 Sep 22 19:49 solver.py\n",
            "\n"
          ]
        }
      ],
      "source": [
        "// Test basic commands - list directory contents\n",
        "const lsToolCall = {\n",
        "  id: 'test-ls',\n",
        "  func: {\n",
        "    name: 'bash',\n",
        "    arguments: {\n",
        "      command: 'ls -la /home/user/sudoku-solver'\n",
        "    }\n",
        "  }\n",
        "};\n",
        "\n",
        "console.log('=== Testing Basic Command - ls ===');\n",
        "const lsResult = await handleBash(\n",
        "  lsToolCall,\n",
        "  mockData,\n",
        "  mockMessages,\n",
        "  mockAppendToolCallMessage,\n",
        "  sandbox\n",
        ");\n",
        "\n",
        "console.log('Command result:', lsResult[0].tool_call_result);\n",
        "console.log('Directory listing:');\n",
        "console.log(lsResult[0].tool_call_result.stdout);"
      ]
    },
    {
      "cell_type": "code",
      "execution_count": null,
      "id": "cell-11",
      "metadata": {},
      "outputs": [],
      "source": [
        "// Clean up sandbox\n",
        "await sandbox.kill();\n",
        "console.log('Sandbox closed successfully');"
      ]
    }
  ],
  "metadata": {
    "kernelspec": {
      "display_name": "Deno",
      "language": "typescript",
      "name": "_old_deno"
    },
    "language_info": {
      "codemirror_mode": "typescript",
      "file_extension": ".ts",
      "mimetype": "text/x.typescript",
      "name": "typescript",
      "nbconvert_exporter": "script",
      "pygments_lexer": "typescript",
      "version": "5.7.3"
    }
  },
  "nbformat": 4,
  "nbformat_minor": 4
}
