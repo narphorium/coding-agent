{
  "cells": [
    {
      "cell_type": "markdown",
      "id": "cell-0",
      "metadata": {},
      "source": [
        "# Simple E2B Sandbox Example\n",
        "\n",
        "A basic example demonstrating how to create an E2B sandbox and run simple commands like `ls`."
      ]
    },
    {
      "cell_type": "code",
      "execution_count": null,
      "id": "cell-1",
      "metadata": {},
      "outputs": [],
      "source": [
        "// Import E2B SDK and environment setup\n",
        "import { Sandbox } from \"https://esm.sh/e2b@latest\";\n",
        "import * as dotenv from \"jsr:@std/dotenv\";\n",
        "\n",
        "// Load environment variables\n",
        "await dotenv.load({ export: true });\n",
        "\n",
        "const apiKey = Deno.env.get(\"E2B_API_KEY\");\n",
        "if (!apiKey) {\n",
        "  throw new Error(\"E2B_API_KEY environment variable is required\");\n",
        "}\n",
        "\n",
        "console.log(\"Environment loaded successfully\");"
      ]
    },
    {
      "cell_type": "code",
      "execution_count": null,
      "id": "cell-2",
      "metadata": {},
      "outputs": [],
      "source": [
        "// Create sandbox\n",
        "const sandbox = await Sandbox.create({\n",
        "  template: \"base\",\n",
        "  apiKey: apiKey,\n",
        "  timeoutMs: 300_000 // 5 minutes\n",
        "});\n",
        "\n",
        "console.log(`Sandbox created with ID: ${sandbox.id}`);"
      ]
    },
    {
      "cell_type": "code",
      "execution_count": null,
      "id": "cell-3",
      "metadata": {},
      "outputs": [],
      "source": [
        "// Run basic ls command\n",
        "const lsResult = await sandbox.commands.run(\"ls -la\");\n",
        "\n",
        "console.log(\"Command: ls -la\");\n",
        "console.log(\"Exit code:\", lsResult.exitCode);\n",
        "console.log(\"Output:\");\n",
        "console.log(lsResult.stdout);"
      ]
    },
    {
      "cell_type": "code",
      "execution_count": null,
      "id": "cell-4",
      "metadata": {},
      "outputs": [],
      "source": [
        "// Run ls on a specific directory\n",
        "const homeResult = await sandbox.commands.run(\"ls -la /home\");\n",
        "\n",
        "console.log(\"Command: ls -la /home\");\n",
        "console.log(\"Exit code:\", homeResult.exitCode);\n",
        "console.log(\"Output:\");\n",
        "console.log(homeResult.stdout);"
      ]
    },
    {
      "cell_type": "code",
      "execution_count": null,
      "id": "cell-5",
      "metadata": {},
      "outputs": [],
      "source": [
        "// Check current working directory and user\n",
        "const pwdResult = await sandbox.commands.run(\"pwd && whoami\");\n",
        "\n",
        "console.log(\"Command: pwd && whoami\");\n",
        "console.log(\"Exit code:\", pwdResult.exitCode);\n",
        "console.log(\"Output:\");\n",
        "console.log(pwdResult.stdout);"
      ]
    },
    {
      "cell_type": "code",
      "execution_count": null,
      "id": "cell-6",
      "metadata": {},
      "outputs": [],
      "source": [
        "// Clean up\n",
        "await sandbox.close();\n",
        "console.log(\"Sandbox closed successfully\");"
      ]
    }
  ],
  "metadata": {
    "kernelspec": {
      "display_name": "Deno",
      "language": "typescript",
      "name": "deno"
    },
    "language_info": {
      "name": "typescript"
    }
  },
  "nbformat": 4,
  "nbformat_minor": 4
}