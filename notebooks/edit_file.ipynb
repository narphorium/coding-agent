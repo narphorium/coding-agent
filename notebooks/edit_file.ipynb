{
  "cells": [
    {
      "cell_type": "markdown",
      "id": "cell-0",
      "metadata": {},
      "source": [
        "# Edit File Tool with E2B Sandbox\n",
        "\n",
        "Demonstration of the edit_file tool functionality using E2B sandbox to modify existing files by replacing specific text content."
      ]
    },
    {
      "cell_type": "code",
      "execution_count": 1,
      "id": "cell-1",
      "metadata": {},
      "outputs": [
        {
          "name": "stdout",
          "output_type": "stream",
          "text": [
            "Environment loaded successfully\n"
          ]
        }
      ],
      "source": [
        "// Import E2B SDK and load environment\n",
        "import { Sandbox } from \"https://esm.sh/e2b@latest\";\n",
        "import * as dotenv from \"jsr:@std/dotenv\";\n",
        "\n",
        "// Import the edit_file tool\n",
        "import { editFileTool, handleEditFile } from '../src/tools/edit_file.ts';\n",
        "import { StreamData } from 'npm:ai';\n",
        "\n",
        "// Load environment variables\n",
        "await dotenv.load({ export: true });\n",
        "\n",
        "const apiKey = Deno.env.get(\"E2B_API_KEY\");\n",
        "if (!apiKey) {\n",
        "  throw new Error(\"E2B_API_KEY environment variable is required\");\n",
        "}\n",
        "\n",
        "console.log(\"Environment loaded successfully\");"
      ]
    },
    {
      "cell_type": "code",
      "execution_count": 2,
      "id": "cell-2",
      "metadata": {},
      "outputs": [
        {
          "name": "stdout",
          "output_type": "stream",
          "text": [
            "Sandbox created with ID: undefined\n",
            "Repository cloned successfully\n",
            "Sandbox ready for testing\n",
            "Tool definition: {\n",
            "  type: \"function\",\n",
            "  function: {\n",
            "    name: \"edit_file\",\n",
            "    description: \"Edit the contents of a file by replacing specific text with new text.\",\n",
            "    parameters: {\n",
            "      type: \"object\",\n",
            "      properties: {\n",
            "        path: { type: \"string\", description: \"The file path to edit\" },\n",
            "        old_text: { type: \"string\", description: \"The existing text to replace\" },\n",
            "        new_text: {\n",
            "          type: \"string\",\n",
            "          description: \"The new text to replace the old text with\"\n",
            "        }\n",
            "      },\n",
            "      required: [ \"path\", \"old_text\", \"new_text\" ]\n",
            "    }\n",
            "  }\n",
            "}\n"
          ]
        }
      ],
      "source": [
        "// Create sandbox and clone repository\n",
        "const sandbox = await Sandbox.create({\n",
        "    template: \"base\",\n",
        "    apiKey: apiKey,\n",
        "    timeoutMs: 600_000 // 10 minutes\n",
        "  });\n",
        "  \n",
        "  console.log(`Sandbox created with ID: ${sandbox.id}`);\n",
        "  \n",
        "  // Clone the Sudoku Solver repository\n",
        "  const cloneResult = await sandbox.commands.run(\"git clone https://github.com/Rahimeen-Altaf/Sudoku-Solver-DSA.git /home/user/sudoku-solver\");\n",
        "  console.log(\"Repository cloned successfully\");\n",
        "  \n",
        "  // Configure git\n",
        "  await sandbox.commands.run(\"git config --global user.email 'test@example.com'\");\n",
        "  await sandbox.commands.run(\"git config --global user.name 'Test User'\");\n",
        "  \n",
        "  console.log(\"Sandbox ready for testing\");\n",
        "\n",
        "  // Set up mock objects for testing\n",
        "const mockData = new StreamData();\n",
        "const mockMessages: any[] = [];\n",
        "const mockAppendToolCallMessage = (msg: any) => [msg];\n",
        "\n",
        "console.log('Tool definition:', editFileTool);"
      ]
    },
    {
      "cell_type": "code",
      "execution_count": 3,
      "id": "cell-3",
      "metadata": {},
      "outputs": [
        {
          "name": "stdout",
          "output_type": "stream",
          "text": [
            "Created test file with initial content:\n",
            "# Test Configuration File\n",
            "# This is a sample configuration\n",
            "\n",
            "DEBUG_MODE = False\n",
            "MAX_ITERATIONS = 100\n",
            "OUTPUT_FORMAT = \"text\"\n",
            "\n",
            "# End of configuration\n"
          ]
        }
      ],
      "source": [
        "// First, create a test file to edit\n",
        "const testContent = `# Test Configuration File\n",
        "# This is a sample configuration\n",
        "\n",
        "DEBUG_MODE = False\n",
        "MAX_ITERATIONS = 100\n",
        "OUTPUT_FORMAT = \"text\"\n",
        "\n",
        "# End of configuration`;\n",
        "\n",
        "await sandbox.files.write('/home/user/sudoku-solver/test_config.py', testContent);\n",
        "console.log('Created test file with initial content:');\n",
        "console.log(testContent);"
      ]
    },
    {
      "cell_type": "code",
      "execution_count": 4,
      "id": "cell-4",
      "metadata": {},
      "outputs": [
        {
          "name": "stdout",
          "output_type": "stream",
          "text": [
            "=== Testing Basic Text Replacement ===\n",
            "Edit result: {\n",
            "  success: true,\n",
            "  message: 'File edited successfully: replaced \"DEBUG_MODE = False\" with \"DEBUG_MODE = True\" in /home/user/sudoku-solver/test_config.py'\n",
            "}\n",
            "Updated file content:\n",
            "# Test Configuration File\n",
            "# This is a sample configuration\n",
            "\n",
            "DEBUG_MODE = True\n",
            "MAX_ITERATIONS = 100\n",
            "OUTPUT_FORMAT = \"text\"\n",
            "\n",
            "# End of configuration\n"
          ]
        }
      ],
      "source": [
        "// Test basic text replacement\n",
        "const basicEditToolCall = {\n",
        "  id: 'test-basic-edit',\n",
        "  func: {\n",
        "    name: 'edit_file',\n",
        "    arguments: {\n",
        "      path: '/home/user/sudoku-solver/test_config.py',\n",
        "      old_text: 'DEBUG_MODE = False',\n",
        "      new_text: 'DEBUG_MODE = True'\n",
        "    }\n",
        "  }\n",
        "};\n",
        "\n",
        "console.log('=== Testing Basic Text Replacement ===');\n",
        "const basicResult = await handleEditFile(\n",
        "  basicEditToolCall,\n",
        "  mockData,\n",
        "  mockMessages,\n",
        "  mockAppendToolCallMessage,\n",
        "  sandbox\n",
        ");\n",
        "\n",
        "console.log('Edit result:', basicResult[0].tool_call_result);\n",
        "\n",
        "// Verify the change\n",
        "const updatedContent = await sandbox.files.read('/home/user/sudoku-solver/test_config.py');\n",
        "console.log('Updated file content:');\n",
        "console.log(updatedContent);"
      ]
    },
    {
      "cell_type": "code",
      "execution_count": 5,
      "id": "cell-5",
      "metadata": {},
      "outputs": [
        {
          "name": "stdout",
          "output_type": "stream",
          "text": [
            "=== Testing Multi-word Replacement with New Line ===\n",
            "Multi-word edit result: {\n",
            "  success: true,\n",
            "  message: 'File edited successfully: replaced \"OUTPUT_FORMAT = \"text\"\" with \"OUTPUT_FORMAT = \"json\"\\n' +\n",
            "    'VERBOSE_LOGGING = True\" in /home/user/sudoku-solver/test_config.py'\n",
            "}\n",
            "Updated file content:\n",
            "# Test Configuration File\n",
            "# This is a sample configuration\n",
            "\n",
            "DEBUG_MODE = True\n",
            "MAX_ITERATIONS = 100\n",
            "OUTPUT_FORMAT = \"json\"\n",
            "VERBOSE_LOGGING = True\n",
            "\n",
            "# End of configuration\n"
          ]
        }
      ],
      "source": [
        "// Test replacing multiple words\n",
        "const multiWordEditToolCall = {\n",
        "  id: 'test-multi-word',\n",
        "  func: {\n",
        "    name: 'edit_file',\n",
        "    arguments: {\n",
        "      path: '/home/user/sudoku-solver/test_config.py',\n",
        "      old_text: 'OUTPUT_FORMAT = \"text\"',\n",
        "      new_text: 'OUTPUT_FORMAT = \"json\"\\nVERBOSE_LOGGING = True'\n",
        "    }\n",
        "  }\n",
        "};\n",
        "\n",
        "console.log('=== Testing Multi-word Replacement with New Line ===');\n",
        "const multiWordResult = await handleEditFile(\n",
        "  multiWordEditToolCall,\n",
        "  mockData,\n",
        "  mockMessages,\n",
        "  mockAppendToolCallMessage,\n",
        "  sandbox\n",
        ");\n",
        "\n",
        "console.log('Multi-word edit result:', multiWordResult[0].tool_call_result);\n",
        "\n",
        "// Verify the change\n",
        "const updatedContent2 = await sandbox.files.read('/home/user/sudoku-solver/test_config.py');\n",
        "console.log('Updated file content:');\n",
        "console.log(updatedContent2);"
      ]
    },
    {
      "cell_type": "code",
      "execution_count": 6,
      "id": "cell-6",
      "metadata": {},
      "outputs": [
        {
          "name": "stdout",
          "output_type": "stream",
          "text": [
            "=== Testing Error Handling - Text Not Found ===\n",
            "Not found error result: {\n",
            "  error: 'Text \"NON_EXISTENT_CONFIG = True\" not found in file /home/user/sudoku-solver/test_config.py'\n",
            "}\n"
          ]
        }
      ],
      "source": [
        "// Test error handling - text not found\n",
        "const notFoundToolCall = {\n",
        "  id: 'test-not-found',\n",
        "  func: {\n",
        "    name: 'edit_file',\n",
        "    arguments: {\n",
        "      path: '/home/user/sudoku-solver/test_config.py',\n",
        "      old_text: 'NON_EXISTENT_CONFIG = True',\n",
        "      new_text: 'REPLACEMENT_CONFIG = False'\n",
        "    }\n",
        "  }\n",
        "};\n",
        "\n",
        "console.log('=== Testing Error Handling - Text Not Found ===');\n",
        "const notFoundResult = await handleEditFile(\n",
        "  notFoundToolCall,\n",
        "  mockData,\n",
        "  mockMessages,\n",
        "  mockAppendToolCallMessage,\n",
        "  sandbox\n",
        ");\n",
        "\n",
        "console.log('Not found error result:', notFoundResult[0].tool_call_result);"
      ]
    },
    {
      "cell_type": "code",
      "execution_count": 7,
      "id": "cell-7",
      "metadata": {},
      "outputs": [
        {
          "name": "stdout",
          "output_type": "stream",
          "text": [
            "=== Testing Error Handling - File Not Found ===\n",
            "File not found error result: {\n",
            "  error: \"path '/home/user/sudoku-solver/non_existent_file.py' does not exist\"\n",
            "}\n"
          ]
        }
      ],
      "source": [
        "// Test error handling - file not found\n",
        "const fileNotFoundToolCall = {\n",
        "  id: 'test-file-not-found',\n",
        "  func: {\n",
        "    name: 'edit_file',\n",
        "    arguments: {\n",
        "      path: '/home/user/sudoku-solver/non_existent_file.py',\n",
        "      old_text: 'some text',\n",
        "      new_text: 'new text'\n",
        "    }\n",
        "  }\n",
        "};\n",
        "\n",
        "console.log('=== Testing Error Handling - File Not Found ===');\n",
        "const fileNotFoundResult = await handleEditFile(\n",
        "  fileNotFoundToolCall,\n",
        "  mockData,\n",
        "  mockMessages,\n",
        "  mockAppendToolCallMessage,\n",
        "  sandbox\n",
        ");\n",
        "\n",
        "console.log('File not found error result:', fileNotFoundResult[0].tool_call_result);"
      ]
    },
    {
      "cell_type": "code",
      "execution_count": 8,
      "id": "cell-8",
      "metadata": {},
      "outputs": [
        {
          "name": "stdout",
          "output_type": "stream",
          "text": [
            "=== Testing Real File Edit - README.md ===\n",
            "README edit result: {\n",
            "  success: true,\n",
            "  message: 'File edited successfully: replaced \"Sudoku Solver\" with \"Advanced Sudoku Solver with AI\" in /home/user/sudoku-solver/README.md'\n",
            "}\n",
            "Modified README preview: # Advanced Sudoku Solver with AI\n",
            "\n",
            "The Sudoku Solver project is an advanced Python application designed to efficiently solve Sudoku puzzles. Sudoku is a number puzzle game played on a 9x9 grid, divid...\n"
          ]
        }
      ],
      "source": [
        "// Test editing the actual README.md from the repository\n",
        "const readmeEditToolCall = {\n",
        "  id: 'test-readme-edit',\n",
        "  func: {\n",
        "    name: 'edit_file',\n",
        "    arguments: {\n",
        "      path: '/home/user/sudoku-solver/README.md',\n",
        "      old_text: 'Sudoku Solver',\n",
        "      new_text: 'Advanced Sudoku Solver with AI'\n",
        "    }\n",
        "  }\n",
        "};\n",
        "\n",
        "console.log('=== Testing Real File Edit - README.md ===');\n",
        "const readmeResult = await handleEditFile(\n",
        "  readmeEditToolCall,\n",
        "  mockData,\n",
        "  mockMessages,\n",
        "  mockAppendToolCallMessage,\n",
        "  sandbox\n",
        ");\n",
        "\n",
        "console.log('README edit result:', readmeResult[0].tool_call_result);\n",
        "\n",
        "// Show the first few lines of the modified README\n",
        "const modifiedReadme = await sandbox.files.read('/home/user/sudoku-solver/README.md');\n",
        "console.log('Modified README preview:', modifiedReadme.substring(0, 200) + '...');"
      ]
    },
    {
      "cell_type": "code",
      "execution_count": 9,
      "id": "cell-9",
      "metadata": {},
      "outputs": [
        {
          "ename": "TypeError",
          "evalue": "sandbox.close is not a function",
          "output_type": "error",
          "traceback": [
            "Stack trace:",
            "TypeError: sandbox.close is not a function",
            "    at <anonymous>:2:15"
          ]
        }
      ],
      "source": [
        "// Clean up sandbox\n",
        "await sandbox.close();\n",
        "console.log('Sandbox closed successfully');"
      ]
    }
  ],
  "metadata": {
    "kernelspec": {
      "display_name": "Deno",
      "language": "typescript",
      "name": "_old_deno"
    },
    "language_info": {
      "codemirror_mode": "typescript",
      "file_extension": ".ts",
      "mimetype": "text/x.typescript",
      "name": "typescript",
      "nbconvert_exporter": "script",
      "pygments_lexer": "typescript",
      "version": "5.7.3"
    }
  },
  "nbformat": 4,
  "nbformat_minor": 4
}
