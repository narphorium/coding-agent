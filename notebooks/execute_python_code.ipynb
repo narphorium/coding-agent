{
  "cells": [
    {
      "cell_type": "markdown",
      "metadata": {},
      "source": [
        "# Execute Python Code Tool\n",
        "\n",
        "Simple demonstration of the execute_python_code tool functionality."
      ]
    },
    {
      "cell_type": "code",
      "execution_count": null,
      "metadata": {},
      "outputs": [],
      "source": [
        "import { executePythonCodeTool, handleExecutePythonCode } from '../src/tools/execute_python_code.ts';\n",
        "import { StreamData } from 'npm:ai';\n",
        "\n",
        "const mockData = new StreamData();\n",
        "const mockMessages: any[] = [];\n",
        "const mockAppendToolCallMessage = (msg: any) => [msg];\n",
        "const sessionID = 'test-session';\n",
        "\n",
        "const mockToolCall = {\n",
        "  id: 'test-call-1',\n",
        "  func: {\n",
        "    name: 'execute_python_code',\n",
        "    arguments: {\n",
        "      code: 'print(\"Hello from Python!\")\\nresult = 2 + 2\\nprint(f\"2 + 2 = {result}\")'\n",
        "    }\n",
        "  }\n",
        "};\n",
        "\n",
        "console.log('Tool definition:', executePythonCodeTool);\n",
        "\n",
        "const result = await handleExecutePythonCode(\n",
        "  mockToolCall,\n",
        "  mockData,\n",
        "  mockMessages,\n",
        "  mockAppendToolCallMessage,\n",
        "  sessionID\n",
        ");\n",
        "\n",
        "console.log('Execution result:', result);"
      ]
    }
  ],
  "metadata": {
    "kernelspec": {
      "display_name": "Deno",
      "language": "typescript",
      "name": "_old_deno"
    },
    "language_info": {
      "file_extension": ".ts",
      "mimetype": "text/x.typescript",
      "name": "typescript",
      "nb_converter": "script",
      "pygments_lexer": "typescript",
      "version": "5.0.0"
    }
  },
  "nbformat": 4,
  "nbformat_minor": 4
}
